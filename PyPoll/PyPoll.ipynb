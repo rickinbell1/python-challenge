{
 "cells": [
  {
   "cell_type": "code",
   "execution_count": 3,
   "metadata": {},
   "outputs": [
    {
     "name": "stdout",
     "output_type": "stream",
     "text": [
      "Election Results\n",
      "..............................\n",
      "Total Votes: 3521001\n",
      "..............................\n",
      "Khan: 63.0% (2218231)\n",
      "Correy: 20.0% (704200)\n",
      "Li: 14.0% (492940)\n",
      "O'Tooley: 3.0% (105630)\n",
      "........................\n",
      "Winner: Khan\n",
      ".........................\n"
     ]
    }
   ],
   "source": [
    "import os\n",
    "import csv\n",
    "total_count = []\n",
    "d = {}\n",
    "total = 0\n",
    "csvpath = os.path.join(\"BootCamp_Data\",\"USC-LA-DATA-PT-08-2019-U-C\",\"03-Python\",\"Homework\",\"Instructions\",\"PyPoll\",\"Resources\",\"election_data.csv\")\n",
    "with open(csvpath, newline=\"\")as csvfile:\n",
    "    csv_reader= csv.reader(csvfile, delimiter =\",\")\n",
    "    csv_header = next(csv_reader)\n",
    "    for row in csv_reader:\n",
    "        total_count.append(row[2])\n",
    "    for i in range(len(total_count)):\n",
    "        if total_count[i] in d:\n",
    "            d[total_count[i]] = d[total_count[i]] + 1\n",
    "            \n",
    "        else:\n",
    "            d[total_count[i]] = 1\n",
    "    for i in d.values():\n",
    "        total = total + i\n",
    "    print(\"Election Results\")\n",
    "    print(\"..............................\")\n",
    "    print(\"Total Votes: \"+str(total))\n",
    "    print(\"..............................\")\n",
    "    for x, y in d.items():\n",
    "        print(x +\": \"+str(round((y/total)*100,3))+\"% \"+\"(\" +str(y) + \")\")\n",
    "      \n",
    "    max = 0 \n",
    "    for i, y in d.items():\n",
    "        if y > max:\n",
    "            max = y\n",
    "            winner = i\n",
    "    print(\"........................\")\n",
    "    print(\"Winner: \"+str(winner))\n",
    "    print(\".........................\")\n",
    "\n",
    "    csvpath = (\"pyPoll.txt\")\n",
    "    with open(csvpath,'w', newline = \"\") as csvfile:\n",
    "        csv_writer = csv.writer(csvfile)\n",
    "        csv_writer.writerow([\"Election Result\"])\n",
    "        csv_writer.writerow([\"...................................\"])\n",
    "        csv_writer.writerow([\"Total Votes: \"+str(total)])\n",
    "        csv_writer.writerow([\".......................................\"])\n",
    "        for x, y in d.items():\n",
    "            csv_writer.writerow([x +\": \"+str(round((y/total)*100,3))+\"% \" +\"(\"+str(y)+\")\"])\n",
    "        csv_writer.writerow([\"........................\"])\n",
    "        csv_writer.writerow([\"Winner: \"+str(winner)])\n",
    "        csv_writer.writerow([\"........................\"])\n",
    "\n",
    "\n",
    "\n",
    "            "
   ]
  },
  {
   "cell_type": "code",
   "execution_count": null,
   "metadata": {},
   "outputs": [],
   "source": []
  },
  {
   "cell_type": "code",
   "execution_count": null,
   "metadata": {},
   "outputs": [],
   "source": []
  }
 ],
 "metadata": {
  "kernelspec": {
   "display_name": "Python 3",
   "language": "python",
   "name": "python3"
  },
  "language_info": {
   "codemirror_mode": {
    "name": "ipython",
    "version": 3
   },
   "file_extension": ".py",
   "mimetype": "text/x-python",
   "name": "python",
   "nbconvert_exporter": "python",
   "pygments_lexer": "ipython3",
   "version": "3.7.3"
  }
 },
 "nbformat": 4,
 "nbformat_minor": 4
}