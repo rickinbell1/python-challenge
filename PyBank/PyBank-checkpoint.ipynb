{
 "cells": [
  {
   "cell_type": "code",
   "execution_count": 24,
   "metadata": {},
   "outputs": [
    {
     "name": "stdout",
     "output_type": "stream",
     "text": [
      "Financial Analysis\n",
      ".....................................\n",
      "Total Months: 86\n",
      "Total: $38382578\n",
      "Average Change: $24\n",
      "Greatest Increase in Profits: Feb-2012 ($1926159)\n",
      "Greatest Decrease in Profits: Sep-2013 ($-2196167)\n"
     ]
    }
   ],
   "source": [
    "import os\n",
    "import csv\n",
    "total_months = 0\n",
    "total_amount = 0\n",
    "p_l = []\n",
    "months = []\n",
    "avg_change = []\n",
    "total_change = 0\n",
    "csvpath = os.path.join(\"BootCamp_Data\",\"USC-LA-DATA-PT-08-2019-U-C\",\"03-Python\",\"Homework\",\"Instructions\",\"PyBank\",\"Resources\",\"budget_data.csv\")\n",
    "with open(csvpath, newline=\"\") as csvfile:\n",
    "    csv_reader = csv.reader(csvfile, delimiter =\",\")\n",
    "    csv_header = next(csv_reader)\n",
    "    for row in csv_reader:\n",
    "        total_months = total_months + 1\n",
    "        total_amount = total_amount + int(row[1])\n",
    "        p_l.append(row[1])\n",
    "        months.append(row[0])\n",
    "    for  i in range(1, len(p_l)):\n",
    "        avg_change.append(int(p_l[i])  - int(p_l[i - 1]))\n",
    "    for i in range(len(avg_change)):\n",
    "        total_change = total_change  + avg_change[i]\n",
    "    avg = total_change / len(avg_change)\n",
    "    maxElem = max(avg_change)\n",
    "    minElem = min(avg_change)\n",
    "    print(\"Financial Analysis\")\n",
    "    print(\".....................................\")\n",
    "    print(\"Total Months: \" +str(total_months))\n",
    "    print(\"Total: \"+ \"$\"+ str(total_amount) )\n",
    "    print(\"Average Change: \"+ \"$\" + str(avg_change.index(maxElem)))\n",
    "    print(\"Greatest Increase in Profits: \"+ months[avg_change.index(maxElem) + 1] + \" \" + \"(\" + \"$\"+ str(maxElem) + \")\")\n",
    "    print(\"Greatest Decrease in Profits: \" + months[avg_change.index(minElem) + 1] + \" \" + \"($\" + str(minElem) + \")\")\n",
    "\n",
    "csvPath = os.path.join(\"PyBank.txt\")\n",
    "with open(csvPath,'w',newline = \"\") as csvfile:\n",
    "    csv_writer = csv.writer(csvfile, delimiter = \" \")\n",
    "    csv_writer.writerow([\"Financial Analysis\"])\n",
    "    csv_writer.writerow([\".....................................\"])\n",
    "    csv_writer.writerow([\"Total Months: \" +str(total_months)])\n",
    "    csv_writer.writerow([\"Total: \"+ \"$\"+ str(total_amount)])\n",
    "    csv_writer.writerow([\"Average Change: \"+ \"$\" + str(avg_change.index(maxElem))] )\n",
    "    csv_writer.writerow([\"Greatest Increase in Profits: \"+ months[avg_change.index(maxElem) + 1] + \" \" + \"($\"+ str(maxElem) + \")\"])\n",
    "    csv_writer.writerow([\"Greatest Decrease in Profits: \" + months[avg_change.index(minElem) + 1] + \" \"  + \"($\" + str(minElem) + \")\"])                   "
   ]
  },
  {
   "cell_type": "code",
   "execution_count": 5,
   "metadata": {},
   "outputs": [],
   "source": [
    "a = \"name\""
   ]
  },
  {
   "cell_type": "code",
   "execution_count": 6,
   "metadata": {},
   "outputs": [
    {
     "data": {
      "text/plain": [
       "'name'"
      ]
     },
     "execution_count": 6,
     "metadata": {},
     "output_type": "execute_result"
    }
   ],
   "source": [
    "a"
   ]
  },
  {
   "cell_type": "code",
   "execution_count": 7,
   "metadata": {},
   "outputs": [
    {
     "data": {
      "text/plain": [
       "1926159"
      ]
     },
     "execution_count": 7,
     "metadata": {},
     "output_type": "execute_result"
    }
   ],
   "source": [
    "maxElem"
   ]
  },
  {
   "cell_type": "code",
   "execution_count": null,
   "metadata": {},
   "outputs": [],
   "source": []
  }
 ],
 "metadata": {
  "kernelspec": {
   "display_name": "Python 3",
   "language": "python",
   "name": "python3"
  },
  "language_info": {
   "codemirror_mode": {
    "name": "ipython",
    "version": 3
   },
   "file_extension": ".py",
   "mimetype": "text/x-python",
   "name": "python",
   "nbconvert_exporter": "python",
   "pygments_lexer": "ipython3",
   "version": "3.7.3"
  }
 },
 "nbformat": 4,
 "nbformat_minor": 4
}